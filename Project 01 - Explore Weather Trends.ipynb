{
 "cells": [
  {
   "cell_type": "code",
   "execution_count": 1,
   "metadata": {},
   "outputs": [
    {
     "data": {
      "text/html": [
       "<div>\n",
       "<style scoped>\n",
       "    .dataframe tbody tr th:only-of-type {\n",
       "        vertical-align: middle;\n",
       "    }\n",
       "\n",
       "    .dataframe tbody tr th {\n",
       "        vertical-align: top;\n",
       "    }\n",
       "\n",
       "    .dataframe thead th {\n",
       "        text-align: right;\n",
       "    }\n",
       "</style>\n",
       "<table border=\"1\" class=\"dataframe\">\n",
       "  <thead>\n",
       "    <tr style=\"text-align: right;\">\n",
       "      <th></th>\n",
       "      <th>year</th>\n",
       "      <th>city</th>\n",
       "      <th>country</th>\n",
       "      <th>avg_temp</th>\n",
       "    </tr>\n",
       "  </thead>\n",
       "  <tbody>\n",
       "    <tr>\n",
       "      <th>0</th>\n",
       "      <td>1849</td>\n",
       "      <td>Abidjan</td>\n",
       "      <td>Côte D'Ivoire</td>\n",
       "      <td>25.58</td>\n",
       "    </tr>\n",
       "    <tr>\n",
       "      <th>1</th>\n",
       "      <td>1850</td>\n",
       "      <td>Abidjan</td>\n",
       "      <td>Côte D'Ivoire</td>\n",
       "      <td>25.52</td>\n",
       "    </tr>\n",
       "    <tr>\n",
       "      <th>2</th>\n",
       "      <td>1851</td>\n",
       "      <td>Abidjan</td>\n",
       "      <td>Côte D'Ivoire</td>\n",
       "      <td>25.67</td>\n",
       "    </tr>\n",
       "    <tr>\n",
       "      <th>3</th>\n",
       "      <td>1852</td>\n",
       "      <td>Abidjan</td>\n",
       "      <td>Côte D'Ivoire</td>\n",
       "      <td>NaN</td>\n",
       "    </tr>\n",
       "    <tr>\n",
       "      <th>4</th>\n",
       "      <td>1853</td>\n",
       "      <td>Abidjan</td>\n",
       "      <td>Côte D'Ivoire</td>\n",
       "      <td>NaN</td>\n",
       "    </tr>\n",
       "  </tbody>\n",
       "</table>\n",
       "</div>"
      ],
      "text/plain": [
       "   year     city        country  avg_temp\n",
       "0  1849  Abidjan  Côte D'Ivoire     25.58\n",
       "1  1850  Abidjan  Côte D'Ivoire     25.52\n",
       "2  1851  Abidjan  Côte D'Ivoire     25.67\n",
       "3  1852  Abidjan  Côte D'Ivoire       NaN\n",
       "4  1853  Abidjan  Côte D'Ivoire       NaN"
      ]
     },
     "execution_count": 1,
     "metadata": {},
     "output_type": "execute_result"
    }
   ],
   "source": [
    "import pandas as pd\n",
    "import numpy as np\n",
    "import matplotlib.pyplot as plt\n",
    " \n",
    "city_data = pd.read_csv('D:\\Data Analyst - Udacity\\Datasets\\city_data.csv')\n",
    "city_list = pd.read_csv('D:\\Data Analyst - Udacity\\Datasets\\city_list.csv')\n",
    "global_data = pd.read_csv('D:\\Data Analyst - Udacity\\Datasets\\global_data.csv')\n",
    "city_data.head()\n"
   ]
  },
  {
   "cell_type": "code",
   "execution_count": 2,
   "metadata": {},
   "outputs": [
    {
     "data": {
      "text/html": [
       "<div>\n",
       "<style scoped>\n",
       "    .dataframe tbody tr th:only-of-type {\n",
       "        vertical-align: middle;\n",
       "    }\n",
       "\n",
       "    .dataframe tbody tr th {\n",
       "        vertical-align: top;\n",
       "    }\n",
       "\n",
       "    .dataframe thead th {\n",
       "        text-align: right;\n",
       "    }\n",
       "</style>\n",
       "<table border=\"1\" class=\"dataframe\">\n",
       "  <thead>\n",
       "    <tr style=\"text-align: right;\">\n",
       "      <th></th>\n",
       "      <th>city</th>\n",
       "      <th>country</th>\n",
       "    </tr>\n",
       "  </thead>\n",
       "  <tbody>\n",
       "    <tr>\n",
       "      <th>0</th>\n",
       "      <td>Abidjan</td>\n",
       "      <td>Côte D'Ivoire</td>\n",
       "    </tr>\n",
       "    <tr>\n",
       "      <th>1</th>\n",
       "      <td>Abu Dhabi</td>\n",
       "      <td>United Arab Emirates</td>\n",
       "    </tr>\n",
       "    <tr>\n",
       "      <th>2</th>\n",
       "      <td>Abuja</td>\n",
       "      <td>Nigeria</td>\n",
       "    </tr>\n",
       "    <tr>\n",
       "      <th>3</th>\n",
       "      <td>Accra</td>\n",
       "      <td>Ghana</td>\n",
       "    </tr>\n",
       "    <tr>\n",
       "      <th>4</th>\n",
       "      <td>Adana</td>\n",
       "      <td>Turkey</td>\n",
       "    </tr>\n",
       "  </tbody>\n",
       "</table>\n",
       "</div>"
      ],
      "text/plain": [
       "        city               country\n",
       "0    Abidjan         Côte D'Ivoire\n",
       "1  Abu Dhabi  United Arab Emirates\n",
       "2      Abuja               Nigeria\n",
       "3      Accra                 Ghana\n",
       "4      Adana                Turkey"
      ]
     },
     "execution_count": 2,
     "metadata": {},
     "output_type": "execute_result"
    }
   ],
   "source": [
    "city_list.head()"
   ]
  },
  {
   "cell_type": "code",
   "execution_count": 3,
   "metadata": {},
   "outputs": [
    {
     "data": {
      "text/html": [
       "<div>\n",
       "<style scoped>\n",
       "    .dataframe tbody tr th:only-of-type {\n",
       "        vertical-align: middle;\n",
       "    }\n",
       "\n",
       "    .dataframe tbody tr th {\n",
       "        vertical-align: top;\n",
       "    }\n",
       "\n",
       "    .dataframe thead th {\n",
       "        text-align: right;\n",
       "    }\n",
       "</style>\n",
       "<table border=\"1\" class=\"dataframe\">\n",
       "  <thead>\n",
       "    <tr style=\"text-align: right;\">\n",
       "      <th></th>\n",
       "      <th>year</th>\n",
       "      <th>avg_temp</th>\n",
       "    </tr>\n",
       "  </thead>\n",
       "  <tbody>\n",
       "    <tr>\n",
       "      <th>0</th>\n",
       "      <td>1750</td>\n",
       "      <td>8.72</td>\n",
       "    </tr>\n",
       "    <tr>\n",
       "      <th>1</th>\n",
       "      <td>1751</td>\n",
       "      <td>7.98</td>\n",
       "    </tr>\n",
       "    <tr>\n",
       "      <th>2</th>\n",
       "      <td>1752</td>\n",
       "      <td>5.78</td>\n",
       "    </tr>\n",
       "    <tr>\n",
       "      <th>3</th>\n",
       "      <td>1753</td>\n",
       "      <td>8.39</td>\n",
       "    </tr>\n",
       "    <tr>\n",
       "      <th>4</th>\n",
       "      <td>1754</td>\n",
       "      <td>8.47</td>\n",
       "    </tr>\n",
       "  </tbody>\n",
       "</table>\n",
       "</div>"
      ],
      "text/plain": [
       "   year  avg_temp\n",
       "0  1750      8.72\n",
       "1  1751      7.98\n",
       "2  1752      5.78\n",
       "3  1753      8.39\n",
       "4  1754      8.47"
      ]
     },
     "execution_count": 3,
     "metadata": {},
     "output_type": "execute_result"
    }
   ],
   "source": [
    "global_data.head()"
   ]
  },
  {
   "cell_type": "code",
   "execution_count": 4,
   "metadata": {},
   "outputs": [
    {
     "data": {
      "text/html": [
       "<div>\n",
       "<style scoped>\n",
       "    .dataframe tbody tr th:only-of-type {\n",
       "        vertical-align: middle;\n",
       "    }\n",
       "\n",
       "    .dataframe tbody tr th {\n",
       "        vertical-align: top;\n",
       "    }\n",
       "\n",
       "    .dataframe thead th {\n",
       "        text-align: right;\n",
       "    }\n",
       "</style>\n",
       "<table border=\"1\" class=\"dataframe\">\n",
       "  <thead>\n",
       "    <tr style=\"text-align: right;\">\n",
       "      <th></th>\n",
       "      <th>year</th>\n",
       "      <th>city</th>\n",
       "      <th>country</th>\n",
       "      <th>avg_temp</th>\n",
       "    </tr>\n",
       "  </thead>\n",
       "  <tbody>\n",
       "    <tr>\n",
       "      <th>0</th>\n",
       "      <td>1796</td>\n",
       "      <td>Hyderabad</td>\n",
       "      <td>India</td>\n",
       "      <td>26.53</td>\n",
       "    </tr>\n",
       "    <tr>\n",
       "      <th>1</th>\n",
       "      <td>1797</td>\n",
       "      <td>Hyderabad</td>\n",
       "      <td>India</td>\n",
       "      <td>27.48</td>\n",
       "    </tr>\n",
       "    <tr>\n",
       "      <th>2</th>\n",
       "      <td>1798</td>\n",
       "      <td>Hyderabad</td>\n",
       "      <td>India</td>\n",
       "      <td>26.20</td>\n",
       "    </tr>\n",
       "    <tr>\n",
       "      <th>3</th>\n",
       "      <td>1799</td>\n",
       "      <td>Hyderabad</td>\n",
       "      <td>India</td>\n",
       "      <td>26.84</td>\n",
       "    </tr>\n",
       "    <tr>\n",
       "      <th>4</th>\n",
       "      <td>1800</td>\n",
       "      <td>Hyderabad</td>\n",
       "      <td>India</td>\n",
       "      <td>26.88</td>\n",
       "    </tr>\n",
       "  </tbody>\n",
       "</table>\n",
       "</div>"
      ],
      "text/plain": [
       "   year       city country  avg_temp\n",
       "0  1796  Hyderabad   India     26.53\n",
       "1  1797  Hyderabad   India     27.48\n",
       "2  1798  Hyderabad   India     26.20\n",
       "3  1799  Hyderabad   India     26.84\n",
       "4  1800  Hyderabad   India     26.88"
      ]
     },
     "execution_count": 4,
     "metadata": {},
     "output_type": "execute_result"
    }
   ],
   "source": [
    "city_filtered = pd.read_csv('D:\\Data Analyst - Udacity\\Datasets\\city_filtered.csv')\n",
    "city_filtered.head()"
   ]
  },
  {
   "cell_type": "code",
   "execution_count": 5,
   "metadata": {},
   "outputs": [
    {
     "name": "stdout",
     "output_type": "stream",
     "text": [
      "   year       city country  avg_temp_x  avg_temp_y\n",
      "0  1796  Hyderabad   India       26.53        8.27\n",
      "1  1797  Hyderabad   India       27.48        8.51\n",
      "2  1798  Hyderabad   India       26.20        8.67\n",
      "3  1799  Hyderabad   India       26.84        8.51\n",
      "4  1800  Hyderabad   India       26.88        8.48\n",
      "   year       city country  city_avg_temp  global_avg_temp\n",
      "0  1796  Hyderabad   India          26.53             8.27\n",
      "1  1797  Hyderabad   India          27.48             8.51\n",
      "2  1798  Hyderabad   India          26.20             8.67\n",
      "3  1799  Hyderabad   India          26.84             8.51\n",
      "4  1800  Hyderabad   India          26.88             8.48\n"
     ]
    }
   ],
   "source": [
    "#merge global_data with city_filtered data\n",
    "\n",
    "city_filtered_merge = pd.merge(city_filtered, global_data, on = 'year', how = 'inner')\n",
    "print (city_filtered_merge.head())\n",
    "city_filtered_merge = city_filtered_merge.rename(columns = {'avg_temp_x' : 'city_avg_temp', 'avg_temp_y' : 'global_avg_temp' })\n",
    "print (city_filtered_merge.head())"
   ]
  },
  {
   "cell_type": "code",
   "execution_count": 6,
   "metadata": {},
   "outputs": [
    {
     "name": "stdout",
     "output_type": "stream",
     "text": [
      "<class 'pandas.core.frame.DataFrame'>\n",
      "Int64Index: 218 entries, 0 to 217\n",
      "Data columns (total 5 columns):\n",
      " #   Column           Non-Null Count  Dtype  \n",
      "---  ------           --------------  -----  \n",
      " 0   year             218 non-null    int64  \n",
      " 1   city             218 non-null    object \n",
      " 2   country          218 non-null    object \n",
      " 3   city_avg_temp    211 non-null    float64\n",
      " 4   global_avg_temp  218 non-null    float64\n",
      "dtypes: float64(2), int64(1), object(2)\n",
      "memory usage: 10.2+ KB\n"
     ]
    }
   ],
   "source": [
    "#checeking the missing values and data types\n",
    "city_filtered_merge.info()"
   ]
  },
  {
   "cell_type": "code",
   "execution_count": 7,
   "metadata": {},
   "outputs": [],
   "source": [
    "# filling missing values with mean values in city_avg_temp column\n",
    "city_filtered_merge['city_avg_temp'].fillna(city_filtered_merge['city_avg_temp'].mean(), inplace=True)\n",
    "\n",
    "#altering the year datatype\n",
    "#city_filtered_merge['year']= pd.to_datetime(city_filtered_merge['year'])"
   ]
  },
  {
   "cell_type": "code",
   "execution_count": 8,
   "metadata": {},
   "outputs": [
    {
     "name": "stdout",
     "output_type": "stream",
     "text": [
      "<class 'pandas.core.frame.DataFrame'>\n",
      "Int64Index: 218 entries, 0 to 217\n",
      "Data columns (total 5 columns):\n",
      " #   Column           Non-Null Count  Dtype  \n",
      "---  ------           --------------  -----  \n",
      " 0   year             218 non-null    int64  \n",
      " 1   city             218 non-null    object \n",
      " 2   country          218 non-null    object \n",
      " 3   city_avg_temp    218 non-null    float64\n",
      " 4   global_avg_temp  218 non-null    float64\n",
      "dtypes: float64(2), int64(1), object(2)\n",
      "memory usage: 10.2+ KB\n"
     ]
    }
   ],
   "source": [
    "city_filtered_merge.info()\n"
   ]
  },
  {
   "cell_type": "code",
   "execution_count": 9,
   "metadata": {},
   "outputs": [
    {
     "name": "stdout",
     "output_type": "stream",
     "text": [
      "   year       city country  city_avg_temp  global_avg_temp\n",
      "0  1796  Hyderabad   India          26.53             8.27\n",
      "1  1797  Hyderabad   India          27.48             8.51\n",
      "2  1798  Hyderabad   India          26.20             8.67\n",
      "3  1799  Hyderabad   India          26.84             8.51\n",
      "4  1800  Hyderabad   India          26.88             8.48\n",
      "     year       city country  city_avg_temp  global_avg_temp\n",
      "213  2009  Hyderabad   India          28.03             9.51\n",
      "214  2010  Hyderabad   India          27.69             9.70\n",
      "215  2011  Hyderabad   India          27.41             9.52\n",
      "216  2012  Hyderabad   India          28.02             9.51\n",
      "217  2013  Hyderabad   India          28.85             9.61\n"
     ]
    }
   ],
   "source": [
    "print (city_filtered_merge.head())\n",
    "print (city_filtered_merge.tail())"
   ]
  },
  {
   "cell_type": "code",
   "execution_count": 10,
   "metadata": {},
   "outputs": [
    {
     "name": "stdout",
     "output_type": "stream",
     "text": [
      "    year  city_avg_temp  global_avg_temp\n",
      "9   1805      26.931000            8.551\n",
      "10  1806      26.967000            8.567\n",
      "11  1807      26.834000            8.544\n",
      "12  1808      26.900156            8.440\n",
      "13  1809      26.902313            8.297\n"
     ]
    }
   ],
   "source": [
    "# defining moving averages function\n",
    "\n",
    "def moving_averages (data= None, window_size= None):\n",
    "    mov_avg = data.rolling(window=window_size, center=False, on='year').mean().dropna()\n",
    "    \n",
    "    return(mov_avg)\n",
    "\n",
    "roll_window_size = 10\n",
    "\n",
    "mov_avg = moving_averages(data=city_filtered_merge, window_size=roll_window_size)\n",
    "print(mov_avg.head())"
   ]
  },
  {
   "cell_type": "code",
   "execution_count": 11,
   "metadata": {},
   "outputs": [
    {
     "name": "stdout",
     "output_type": "stream",
     "text": [
      "<class 'pandas.core.frame.DataFrame'>\n",
      "Int64Index: 209 entries, 9 to 217\n",
      "Data columns (total 3 columns):\n",
      " #   Column           Non-Null Count  Dtype  \n",
      "---  ------           --------------  -----  \n",
      " 0   year             209 non-null    int64  \n",
      " 1   city_avg_temp    209 non-null    float64\n",
      " 2   global_avg_temp  209 non-null    float64\n",
      "dtypes: float64(2), int64(1)\n",
      "memory usage: 6.5 KB\n",
      "None\n"
     ]
    }
   ],
   "source": [
    "print (mov_avg.info())"
   ]
  },
  {
   "cell_type": "code",
   "execution_count": 12,
   "metadata": {},
   "outputs": [
    {
     "data": {
      "text/plain": [
       "Text(0.5, 1.0, 'Line Chart of Hyderabad versus Global temperatures (10 year moving avg)')"
      ]
     },
     "execution_count": 12,
     "metadata": {},
     "output_type": "execute_result"
    },
    {
     "data": {
      "image/png": "[encoded data removed]",
      "text/plain": [
       "<Figure size 720x360 with 1 Axes>"
      ]
     },
     "metadata": {
      "needs_background": "light"
     },
     "output_type": "display_data"
    }
   ],
   "source": [
    "min_year = mov_avg['year'].iloc[0]\n",
    "max_year = mov_avg['year'].iloc[208]\n",
    "\n",
    "plt.figure(figsize=(10,5))\n",
    "plt.xticks(np.arange(1796, 2013, 30), fontsize=15, fontweight='bold')\n",
    "plt.yticks(np.arange(10,40,3), fontsize=15, fontweight='bold')\n",
    "\n",
    "plt.grid()\n",
    "plt.plot(mov_avg['city_avg_temp'], label='Hyderabad')\n",
    "plt.plot(mov_avg['global_avg_temp'], label='Global')\n",
    "plt.legend(loc='best')\n",
    "plt.xlabel('Year')\n",
    "plt.ylabel('Temperatures in Celcius')\n",
    "plt.title(\"Line Chart of Hyderabad versus Global temperatures ({} year moving avg)\".format(roll_window_size)) "
   ]
  },
  {
   "cell_type": "code",
   "execution_count": 13,
   "metadata": {},
   "outputs": [
    {
     "data": {
      "text/plain": [
       "Text(0.5, 1.0, 'Line Chart of Hydebrad Vs Global Temperatures (10 year moving averags)')"
      ]
     },
     "execution_count": 13,
     "metadata": {},
     "output_type": "execute_result"
    },
    {
     "data": {
      "image/png": "[encoded data removed]",
      "text/plain": [
       "<Figure size 720x432 with 1 Axes>"
      ]
     },
     "metadata": {
      "needs_background": "light"
     },
     "output_type": "display_data"
    }
   ],
   "source": [
    "plt.figure(figsize=(10,6))\n",
    "x1=mov_avg['year']\n",
    "y1=mov_avg['city_avg_temp']\n",
    "y2 = mov_avg['global_avg_temp']\n",
    "plt.xticks(np.arange(1750, 2015, 25),fontsize=15, fontweight=10, rotation='vertical')\n",
    "plt.yticks(np.arange(1,30,2), fontsize=15, fontweight=10)\n",
    "plt.grid()\n",
    "plt.plot(x1, y1, label=\"Hyderabad\")\n",
    "plt.plot(x1,y2, label='global')\n",
    "plt.plot\n",
    "plt.legend(loc='best')\n",
    "plt.xlabel('Year')\n",
    "plt.ylabel('Temperature in Celcius')\n",
    "plt.title(\"Line Chart of Hydebrad Vs Global Temperatures ({} year moving averags)\".format(roll_window_size))"
   ]
  },
  {
   "cell_type": "code",
   "execution_count": 14,
   "metadata": {},
   "outputs": [
    {
     "data": {
      "text/html": [
       "<div>\n",
       "<style scoped>\n",
       "    .dataframe tbody tr th:only-of-type {\n",
       "        vertical-align: middle;\n",
       "    }\n",
       "\n",
       "    .dataframe tbody tr th {\n",
       "        vertical-align: top;\n",
       "    }\n",
       "\n",
       "    .dataframe thead th {\n",
       "        text-align: right;\n",
       "    }\n",
       "</style>\n",
       "<table border=\"1\" class=\"dataframe\">\n",
       "  <thead>\n",
       "    <tr style=\"text-align: right;\">\n",
       "      <th></th>\n",
       "      <th>year</th>\n",
       "      <th>city_avg_temp</th>\n",
       "      <th>global_avg_temp</th>\n",
       "    </tr>\n",
       "  </thead>\n",
       "  <tbody>\n",
       "    <tr>\n",
       "      <th>count</th>\n",
       "      <td>209.000000</td>\n",
       "      <td>209.000000</td>\n",
       "      <td>209.000000</td>\n",
       "    </tr>\n",
       "    <tr>\n",
       "      <th>mean</th>\n",
       "      <td>1909.000000</td>\n",
       "      <td>26.839856</td>\n",
       "      <td>8.376301</td>\n",
       "    </tr>\n",
       "    <tr>\n",
       "      <th>std</th>\n",
       "      <td>60.477268</td>\n",
       "      <td>0.379773</td>\n",
       "      <td>0.472061</td>\n",
       "    </tr>\n",
       "    <tr>\n",
       "      <th>min</th>\n",
       "      <td>1805.000000</td>\n",
       "      <td>25.906000</td>\n",
       "      <td>7.203000</td>\n",
       "    </tr>\n",
       "    <tr>\n",
       "      <th>25%</th>\n",
       "      <td>1857.000000</td>\n",
       "      <td>26.532000</td>\n",
       "      <td>8.070000</td>\n",
       "    </tr>\n",
       "    <tr>\n",
       "      <th>50%</th>\n",
       "      <td>1909.000000</td>\n",
       "      <td>26.865000</td>\n",
       "      <td>8.288000</td>\n",
       "    </tr>\n",
       "    <tr>\n",
       "      <th>75%</th>\n",
       "      <td>1961.000000</td>\n",
       "      <td>27.105000</td>\n",
       "      <td>8.658000</td>\n",
       "    </tr>\n",
       "    <tr>\n",
       "      <th>max</th>\n",
       "      <td>2013.000000</td>\n",
       "      <td>27.719000</td>\n",
       "      <td>9.556000</td>\n",
       "    </tr>\n",
       "  </tbody>\n",
       "</table>\n",
       "</div>"
      ],
      "text/plain": [
       "              year  city_avg_temp  global_avg_temp\n",
       "count   209.000000     209.000000       209.000000\n",
       "mean   1909.000000      26.839856         8.376301\n",
       "std      60.477268       0.379773         0.472061\n",
       "min    1805.000000      25.906000         7.203000\n",
       "25%    1857.000000      26.532000         8.070000\n",
       "50%    1909.000000      26.865000         8.288000\n",
       "75%    1961.000000      27.105000         8.658000\n",
       "max    2013.000000      27.719000         9.556000"
      ]
     },
     "execution_count": 14,
     "metadata": {},
     "output_type": "execute_result"
    }
   ],
   "source": [
    "mov_avg.describe()"
   ]
  }
 ],
 "metadata": {
  "kernelspec": {
   "display_name": "Python 3",
   "language": "python",
   "name": "python3"
  },
  "language_info": {
   "codemirror_mode": {
    "name": "ipython",
    "version": 3
   },
   "file_extension": ".py",
   "mimetype": "text/x-python",
   "name": "python",
   "nbconvert_exporter": "python",
   "pygments_lexer": "ipython3",
   "version": "3.8.5"
  }
 },
 "nbformat": 4,
 "nbformat_minor": 4
}
